{
 "cells": [
  {
   "cell_type": "markdown",
   "metadata": {},
   "source": [
    "# Notebook E-tivity 1 CE4021"
   ]
  },
  {
   "cell_type": "markdown",
   "metadata": {},
   "source": [
    "<hr style=\"border:2px solid gray\"> </hr>"
   ]
  },
  {
   "cell_type": "markdown",
   "metadata": {},
   "source": [
    "## Imports"
   ]
  },
  {
   "cell_type": "code",
   "execution_count": 1,
   "metadata": {},
   "outputs": [],
   "source": [
    "#None"
   ]
  },
  {
   "cell_type": "markdown",
   "metadata": {},
   "source": [
    "If you believe required imports are missing, please contact your moderator."
   ]
  },
  {
   "cell_type": "markdown",
   "metadata": {},
   "source": [
    "<hr style=\"border:2px solid gray\"> </hr>"
   ]
  },
  {
   "cell_type": "markdown",
   "metadata": {},
   "source": [
    "# Task - Option 1: Symbolically calculate the derivative of a polynomial with one variable"
   ]
  },
  {
   "cell_type": "markdown",
   "metadata": {},
   "source": [
    "<h3>Write 2 Python functions:</h3>\n",
    "<ul>\n",
    "    <li>The first one to symbolically calculate the derivative of a polynomial with one variable. The input should be a polynomial and the output should also be a polynomial.</li>\n",
    "    <li>The second one to evaluate (i.e. get the numerical value) of a polynomial for a given value of its variable. The input should be a polynomial and a value (point at which to evaluate the polynomial). The output should be a scalar.</li>\n",
    "    <li>Test your code with a few salient polynomials (minimum of 3) for which you have calculated the derivative of these polynomials manually.</li>"
   ]
  },
  {
   "cell_type": "markdown",
   "metadata": {},
   "source": [
    "# Objective\n",
    "The function \"symbolical_derivative\" is to compute the derivative of given polynomial.\n",
    "2x^3 - 5x^2 + x - 7"
   ]
  },
  {
   "cell_type": "code",
   "execution_count": 5,
   "metadata": {},
   "outputs": [
    {
     "name": "stdout",
     "output_type": "stream",
     "text": [
      "[(6, 2), (-10, 1), (1, 0)]\n",
      "[(4, 3)]\n",
      "[(-6, 1)]\n"
     ]
    }
   ],
   "source": [
    "def symbolical_derivative(poly):\n",
    "    \"\"\"Computes the symbolic derivative of a polynomial.\"\"\"\n",
    "    derivat_poly = [] # Initializing an empty list\n",
    "\n",
    "    for term in poly:\n",
    "        coeff, degree = term\n",
    "        \n",
    "        if degree > 0:\n",
    "            # Calculate the new coefficient and decrement the degree\n",
    "            new_coeff = coeff * degree\n",
    "            new_degree = degree - 1\n",
    "            derivat_poly.append((new_coeff, new_degree))\n",
    "    \n",
    "    return derivat_poly\n",
    "\n",
    "# Test cases\n",
    "\n",
    "# Polynomial: 2x^3 - 5x^2 + x - 7\n",
    "poly1 = [(2, 3), (-5, 2), (1, 1), (-7, 0)]\n",
    "print(symbolical_derivative(poly1))  # [(6, 2), (-10, 1), (1, 0)]\n",
    "\n",
    "# Polynomial: x^4\n",
    "poly2 = [(1, 4)]\n",
    "print(symbolical_derivative(poly2))  # [(4, 3)]\n",
    "\n",
    "# Polynomial: -3x^2 + 2\n",
    "poly3 = [(-3, 2), (2, 0)]\n",
    "print(symbolical_derivative(poly3))  # [(-6, 1)]\n"
   ]
  },
  {
   "cell_type": "markdown",
   "metadata": {},
   "source": [
    "# Test Cases evaluate the output"
   ]
  },
  {
   "cell_type": "markdown",
   "metadata": {},
   "source": [
    "-------------------------------------\n",
    "<b>Poly 1:</b> 2x^3 - 5x^2 + x - 7\n",
    "\n",
    "f(x) = 2x^3 - 5x^2 + x - 7\n",
    "\n",
    "f'(x) = 6x^2 - 10x^1 + 1x\n",
    "\n",
    "<b>Input:</b> [(6,2),(-10,1),(1,0)]\n",
    "\n",
    "-------------------------------------\n",
    "\n",
    "<b>Poly 2:</b> x^4\n",
    "\n",
    "f(x) = x^4\n",
    "\n",
    "f'(x) = 4x^3\n",
    "\n",
    "<b>Input:</b> [(4,3)]\n",
    "\n",
    "-------------------------------------\n",
    "\n",
    "<b>Poly 3:</b> -3x^2 + 2\n",
    "\n",
    "f(x) = -3x^2 + 2\n",
    "\n",
    "f'(x) = -6x^1 \n",
    "\n",
    "<b>Input:</b> [(-6,1)] \n",
    "\n",
    "----------------------------------------"
   ]
  },
  {
   "cell_type": "markdown",
   "metadata": {},
   "source": [
    "#  Evaluate the polynomial\n",
    "The functtion \"evaluate_symbolical_poly\" evaluates a given polynomial for a specified value of x.\n",
    "The objective find the derivative of given polynomial in symbolic form. A list of tuples is the representation of the polynomial. Each tuple is composed of: Coefficient of the term.\n",
    "Degree (power) of the term."
   ]
  },
  {
   "cell_type": "code",
   "execution_count": 3,
   "metadata": {},
   "outputs": [
    {
     "name": "stdout",
     "output_type": "stream",
     "text": [
      "-9\n",
      "16\n",
      "-25\n"
     ]
    }
   ],
   "source": [
    "def evaluate_symbolical_poly(poly, x):\n",
    "    \"\"\"Evaluates a polynomial (given in symbolic form) at a specified value of x.\"\"\"\n",
    "    result = 0\n",
    "    for coeff, degree in poly:\n",
    "        result += coeff * (x ** degree)\n",
    "    return result\n",
    "\n",
    "# Test cases\n",
    "\n",
    "# Polynomial: 2x^3 - 5x^2 + x - 7\n",
    "poly1 = [(2, 3), (-5, 2), (1, 1), (-7, 0)]\n",
    "print(evaluate_symbolical_poly(poly1, 1))  # -9\n",
    "\n",
    "# Polynomial: x^4\n",
    "poly2 = [(1, 4)]\n",
    "print(evaluate_symbolical_poly(poly2, 2))  # 16\n",
    "\n",
    "# Polynomial: -3x^2 + 2\n",
    "poly3 = [(-3, 2), (2, 0)]\n",
    "print(evaluate_symbolical_poly(poly3, 3))  # -25\n"
   ]
  },
  {
   "cell_type": "markdown",
   "metadata": {},
   "source": [
    "Evaluate the Polynomial, two things to remember \"Substitute and Simplify\"\n",
    "\n",
    "---------------------------------------------\n",
    "\n",
    "<b>Poly 1:</b> 2x^3 - 5x^2 + x - 7\n",
    "\n",
    "Evaluate for x = 1\n",
    "\n",
    "Rewrite the Poly: \n",
    "\n",
    "2(1)^3 - 5(1) + 1 - 7\n",
    "\n",
    "Simplify: \n",
    "\n",
    "2(1) - 5(1) + 1 - 7\n",
    "\n",
    "2 x 1 = 2\n",
    "\n",
    "-5 x 1 = -5\n",
    "\n",
    "1 x 1 = 1\n",
    "\n",
    "-7 = -7\n",
    "\n",
    "2 - 5 + 1 - 7\n",
    "\n",
    "2 - 5 = -3\n",
    "\n",
    "-3 + 1 = -2\n",
    "\n",
    "-2 - 7 = -9\n",
    "\n",
    "<b>Expected Output: -9</b>\n",
    "\n",
    "-----------------------------------------------"
   ]
  },
  {
   "cell_type": "markdown",
   "metadata": {},
   "source": [
    "# Calculate the derivatives and evaluations for three polynomials\n",
    "The objective is find the derivative of given polynomial which is the input is contains the coefficient and degree or power. "
   ]
  },
  {
   "cell_type": "code",
   "execution_count": 6,
   "metadata": {},
   "outputs": [
    {
     "name": "stdout",
     "output_type": "stream",
     "text": [
      "[(6, 2), (-10, 1), (1, 0)]\n",
      "-9\n",
      "[(4, 3), (-9, 2), (4, 1)]\n",
      "0\n",
      "[(15, 4), (-3, 2), (4, 0)]\n",
      "86\n"
     ]
    }
   ],
   "source": [
    "def symbolical_derivative(poly):\n",
    "    \"\"\"Computes the symbolic derivative of a polynomial.\"\"\"\n",
    "    derivat_poly = []\n",
    "    for term in poly:\n",
    "        coeff, degree = term\n",
    "        if degree > 0:\n",
    "            new_coeff = coeff * degree\n",
    "            new_degree = degree - 1\n",
    "            derivat_poly.append((new_coeff, new_degree))\n",
    "    return derivat_poly\n",
    "\n",
    "def evaluate_symbolic_poly(poly, x):\n",
    "    \"\"\"Evaluates a polynomial (given in symbolic form) at a specified value of x.\"\"\"\n",
    "    result = 0\n",
    "    for coeff, degree in poly:\n",
    "        result += coeff * (x ** degree)\n",
    "    return result\n",
    "\n",
    "# Polynomial: 2x^3 - 5x^2 + x - 7\n",
    "poly1 = [(2, 3), (-5, 2), (1, 1), (-7, 0)]\n",
    "print(symbolical_derivative(poly1))  # [(6, 2), (-10, 1), (1, 0)]\n",
    "print(evaluate_symbolical_poly(poly1, 2))  # -9\n",
    "\n",
    "# Polynomial: x^4 - 3x^3 + 2x^2\n",
    "poly2 = [(1, 4), (-3, 3), (2, 2)]\n",
    "print(symbolical_derivative(poly2))  # [(4, 3), (-9, 2), (4, 1)]\n",
    "print(evaluate_symbolical_poly(poly2, 1))  # 0\n",
    "\n",
    "# Polynomial: 3x^5 - x^3 + 4x - 10\n",
    "poly3 = [(3, 5), (-1, 3), (4, 1), (-10, 0)]\n",
    "print(symbolical_derivative(poly3))  # [(15, 4), (-3, 2), (4, 0)]\n",
    "print(evaluate_symbolical_poly(poly3, 2))  # 86\n"
   ]
  },
  {
   "cell_type": "markdown",
   "metadata": {},
   "source": [
    "# Test Cases:"
   ]
  },
  {
   "cell_type": "markdown",
   "metadata": {},
   "source": [
    "<b>Poly 1:</b>2x^3 - 5x^2 + x - 7\n",
    "\n",
    "d/dx(2x^3) = 6x^2\n",
    "\n",
    "d/dx(-5x^2) = -10x^1\n",
    "\n",
    "d/dx(x) = 1\n",
    "\n",
    "(For constant -7 derivative is 0)\n",
    "\n",
    "Derivative is 6x^2 - 10x^1 + 1\n",
    "\n",
    "Eevaluate for x=2: 2(2^3) - 5(2^2) + 2 - 7\n",
    "\n",
    "2(8) - 5(4) + 2 - 7\n",
    "\n",
    "16 - 20 + 2 - 7\n",
    "\n",
    "-4 + 2 - 7\n",
    "\n",
    "-2 - 7\n",
    "\n",
    "Simplify result: - 9\n"
   ]
  },
  {
   "cell_type": "markdown",
   "metadata": {},
   "source": [
    "<b>Poly 2:</b> x^4 - 3x^3 + 2x^2\n",
    "\n",
    "d/dx(x^4) = 4x^3\n",
    "\n",
    "d/dx(-3x^3) = -9x^2\n",
    "\n",
    "d/dx(2x^2) = 4x^1\n",
    "\n",
    "Derivative is 4x^3 - 9x^2 + 4x^1\n",
    "\n",
    "Evaluate for x=1: \n",
    "\n",
    "(1)^4 - 3(1)^3 + 2(1)^2\n",
    "\n",
    "1 - 3 + 2\n",
    "\n",
    "-2 + 2 \n",
    "\n",
    "Simplify result: 0"
   ]
  },
  {
   "cell_type": "markdown",
   "metadata": {},
   "source": [
    "<b>Poly 3:</b> 3x^5 - x^3 + 4x - 10\n",
    "\n",
    "d/dx(3x)^5 = 15x^4\n",
    "\n",
    "d/dx(-x)^3 = -3x^2\n",
    "\n",
    "d/dx(4x) = 4\n",
    "\n",
    "Derivative is 15x^4 - 3x^2 + 4\n",
    "\n",
    "Evaluate for x=2: \n",
    "\n",
    "3(2)^5 - 2^3 + 4(2) - 10\n",
    "\n",
    "96 - 8 + 8 - 10\n",
    "\n",
    "88 + 8 - 10\n",
    "\n",
    "96 - 10\n",
    "\n",
    "Simplify result: 86"
   ]
  },
  {
   "cell_type": "markdown",
   "metadata": {},
   "source": [
    "<hr style=\"border:2px solid gray\"> </hr>"
   ]
  },
  {
   "cell_type": "markdown",
   "metadata": {},
   "source": [
    "## Reflection"
   ]
  },
  {
   "cell_type": "markdown",
   "metadata": {},
   "source": [
    "Write your reflection in below cell. With reference to the Rubric for E-tivity 1:\n",
    "- Provide an accurate description of your code with advantages and disadvantages of design choices.\n",
    "- Compare your approach to alternative (peer) approaches.\n",
    "- Clearly describe how you have used your peers' work/input and how this has affected your own understanding / insights.\n",
    "\n",
    "If you have not used peer input, you may state this, but your submission history in Gitlab should clearly show this is the case."
   ]
  },
  {
   "cell_type": "markdown",
   "metadata": {},
   "source": [
    "# Description of My Code:"
   ]
  },
  {
   "cell_type": "markdown",
   "metadata": {},
   "source": [
    "The code provided is a Python program that performs symbolic differentiation and polynomial evaluation. Each polynomial is represented as a list of tuples, where each tuple holds two values: the coefficient and the degree of the term. The symbolic differentiation function, symbolical_derivative, computes the derivative of a polynomial by iterating over each term and applying basic differentiation rules. The evaluation function, evaluate_symbolical_poly, computes the value of a polynomial at a given point by iterating over each term."
   ]
  },
  {
   "cell_type": "markdown",
   "metadata": {},
   "source": [
    "Advantages:\n",
    "\n",
    "- The code is straightforward and easy to read. \n",
    "- Numeric approximations, ensuring exact results where possible.\n",
    "\n",
    "Disadvantages:\n",
    "\n",
    "- The program does not simplify the result. \n",
    "- The current implementation can be inefficient for very large polynomials"
   ]
  },
  {
   "cell_type": "markdown",
   "metadata": {},
   "source": [
    "Comparison to Peer Approaches:\n",
    "\n",
    "- I observed some also used classes to represent polynomials.\n",
    "- Making their code more object-oriented and modular."
   ]
  },
  {
   "cell_type": "markdown",
   "metadata": {},
   "source": [
    "Peer Work/Input Influence:\n",
    "\n",
    "- The idea of using classes to encapsulate polynomial operations makes the code more organized and modular.\n",
    "- The simplification functions some peers implemented highlighted the importance of post-processing in computation. "
   ]
  }
 ],
 "metadata": {
  "kernelspec": {
   "display_name": "Python 3 (ipykernel)",
   "language": "python",
   "name": "python3"
  },
  "language_info": {
   "codemirror_mode": {
    "name": "ipython",
    "version": 3
   },
   "file_extension": ".py",
   "mimetype": "text/x-python",
   "name": "python",
   "nbconvert_exporter": "python",
   "pygments_lexer": "ipython3",
   "version": "3.11.4"
  }
 },
 "nbformat": 4,
 "nbformat_minor": 2
}
